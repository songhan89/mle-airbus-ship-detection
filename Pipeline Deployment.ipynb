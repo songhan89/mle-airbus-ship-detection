{
 "cells": [
  {
   "cell_type": "code",
   "execution_count": 1,
   "id": "marine-anxiety",
   "metadata": {},
   "outputs": [],
   "source": [
    "import os\n",
    "import time\n",
    "import logging\n",
    "import kfp\n",
    "from google.cloud import bigquery, storage\n",
    "from google.cloud import aiplatform as vertex_ai\n",
    "from google_cloud_pipeline_components.experimental.custom_job import utils\n",
    "from kfp.v2 import compiler, dsl\n",
    "from kfp.v2.dsl import component\n",
    "from typing import NamedTuple\n",
    "from kfp.v2.dsl import (Artifact, Dataset, Input, InputPath, Model, Output, Metrics,\n",
    "                        OutputPath, component)\n",
    "\n",
    "from google_cloud_pipeline_components.experimental.custom_job import utils"
   ]
  },
  {
   "cell_type": "code",
   "execution_count": 2,
   "id": "southern-raising",
   "metadata": {},
   "outputs": [],
   "source": [
    "logging.basicConfig(level=logging.INFO)"
   ]
  },
  {
   "cell_type": "markdown",
   "id": "nearby-anderson",
   "metadata": {},
   "source": [
    "## Load Params and Resource Config"
   ]
  },
  {
   "cell_type": "code",
   "execution_count": 5,
   "id": "abandoned-equilibrium",
   "metadata": {},
   "outputs": [],
   "source": [
    "from config.gcp_resource import *"
   ]
  },
  {
   "cell_type": "code",
   "execution_count": 6,
   "id": "continued-scanner",
   "metadata": {},
   "outputs": [
    {
     "name": "stderr",
     "output_type": "stream",
     "text": [
      "Updated property [core/project].\n"
     ]
    }
   ],
   "source": [
    "if PROJECT_ID == \"\" or PROJECT_ID is None or PROJECT_ID == \"[your-project-id]\":\n",
    "    # Get your GCP project id from gcloud\n",
    "    shell_output = !gcloud config list --format 'value(core.project)' 2>/dev/null\n",
    "    PROJECT_ID = shell_output[0]\n",
    "    \n",
    "if SERVICE_ACCOUNT == \"\" or SERVICE_ACCOUNT is None or SERVICE_ACCOUNT == \"[your-service-account]\":\n",
    "    # Get your GCP project id from gcloud\n",
    "    shell_output = !gcloud config list --format 'value(core.account)' 2>/dev/null\n",
    "    SERVICE_ACCOUNT = shell_output[0]\n",
    "    \n",
    "if GCS_BUCKET == \"\" or GCS_BUCKET is None or GCS_BUCKET == \"[your-bucket-name]\":\n",
    "    # Get your bucket name to GCP projet id\n",
    "    GCS_BUCKET = PROJECT_ID\n",
    "    # Try to create the bucket if it doesn'exists\n",
    "    ! gsutil mb -l $REGION gs://$BUCKET\n",
    "    print(\"\")\n",
    "    \n",
    "!gcloud config set project {PROJECT_ID}"
   ]
  },
  {
   "cell_type": "code",
   "execution_count": 7,
   "id": "handmade-utility",
   "metadata": {},
   "outputs": [
    {
     "name": "stdout",
     "output_type": "stream",
     "text": [
      "Train machine type n1-standard-4\n",
      "Deploy machine type n1-standard-4\n",
      "Deployment: us-docker.pkg.dev/vertex-ai/prediction/tf2-cpu.2-8:latest\n",
      "PIPELINE_ROOT: gs://mle_airbus_dataset/airbusmlepipeline/pipeline_root\n",
      "MODULE_ROOT: gs://mle_airbus_dataset/airbusmlepipeline/pipeline_module\n",
      "DATA_ROOT: gs://mle_airbus_dataset/airbusmlepipeline/data\n",
      "SERVING_MODEL_DIR: gs://mle_airbus_dataset/airbusmlepipeline/serving_model\n"
     ]
    }
   ],
   "source": [
    "print(\"Train machine type\", TRAIN_COMPUTE)\n",
    "print(\"Deploy machine type\", DEPLOY_COMPUTE)\n",
    "print(\"Deployment:\", DEPLOY_IMAGE)\n",
    "print('PIPELINE_ROOT: {}'.format(PIPELINE_ROOT))\n",
    "print('MODULE_ROOT: {}'.format(MODULE_ROOT))\n",
    "print('DATA_ROOT: {}'.format(DATA_ROOT))\n",
    "print('SERVING_MODEL_DIR: {}'.format(SERVING_MODEL_DIR))"
   ]
  },
  {
   "cell_type": "markdown",
   "id": "educated-singer",
   "metadata": {},
   "source": [
    "## Create KFP pipeline"
   ]
  },
  {
   "cell_type": "code",
   "execution_count": 26,
   "id": "revised-foster",
   "metadata": {},
   "outputs": [],
   "source": [
    "from google_cloud_pipeline_components.types import artifact_types\n",
    "from google_cloud_pipeline_components.v1.custom_job import CustomTrainingJobOp\n",
    "from google_cloud_pipeline_components.v1.endpoint import (EndpointCreateOp,\n",
    "                                                          ModelDeployOp)\n",
    "from google_cloud_pipeline_components import aiplatform as gcpc_aip\n",
    "from kfp.v2.components import importer_node"
   ]
  },
  {
   "cell_type": "code",
   "execution_count": 27,
   "id": "proved-yesterday",
   "metadata": {},
   "outputs": [
    {
     "ename": "FileNotFoundError",
     "evalue": "[Errno 2] No such file or directory: './build/tensorflow_airbus.yaml'",
     "output_type": "error",
     "traceback": [
      "\u001b[1;31m---------------------------------------------------------------------------\u001b[0m",
      "\u001b[1;31mFileNotFoundError\u001b[0m                         Traceback (most recent call last)",
      "\u001b[1;32m<ipython-input-27-2a2e0e9c79d0>\u001b[0m in \u001b[0;36m<module>\u001b[1;34m\u001b[0m\n\u001b[1;32m----> 1\u001b[1;33m \u001b[0mtrainer_component\u001b[0m \u001b[1;33m=\u001b[0m \u001b[0mkfp\u001b[0m\u001b[1;33m.\u001b[0m\u001b[0mcomponents\u001b[0m\u001b[1;33m.\u001b[0m\u001b[0mload_component_from_file\u001b[0m\u001b[1;33m(\u001b[0m\u001b[1;34m\"./build/tensorflow_airbus.yaml\"\u001b[0m\u001b[1;33m)\u001b[0m\u001b[1;33m\u001b[0m\u001b[1;33m\u001b[0m\u001b[0m\n\u001b[0m\u001b[0;32m      2\u001b[0m \u001b[0mgen_train_hist_component\u001b[0m \u001b[1;33m=\u001b[0m \u001b[0mkfp\u001b[0m\u001b[1;33m.\u001b[0m\u001b[0mcomponents\u001b[0m\u001b[1;33m.\u001b[0m\u001b[0mload_component_from_file\u001b[0m\u001b[1;33m(\u001b[0m\u001b[1;34m\"./build/gen_train_hist_component.yaml\"\u001b[0m\u001b[1;33m)\u001b[0m\u001b[1;33m\u001b[0m\u001b[1;33m\u001b[0m\u001b[0m\n",
      "\u001b[1;32m~\\anaconda3\\envs\\tf-gpu\\lib\\site-packages\\kfp\\components\\_components.py\u001b[0m in \u001b[0;36mload_component_from_file\u001b[1;34m(filename)\u001b[0m\n\u001b[0;32m    102\u001b[0m         \u001b[0mOnce\u001b[0m \u001b[0mcalled\u001b[0m \u001b[1;32mwith\u001b[0m \u001b[0mthe\u001b[0m \u001b[0mrequired\u001b[0m \u001b[0marguments\u001b[0m\u001b[1;33m,\u001b[0m \u001b[0mthe\u001b[0m \u001b[0mfactory\u001b[0m \u001b[0mconstructs\u001b[0m \u001b[0ma\u001b[0m \u001b[0mpipeline\u001b[0m \u001b[0mtask\u001b[0m \u001b[0minstance\u001b[0m \u001b[1;33m(\u001b[0m\u001b[0mContainerOp\u001b[0m\u001b[1;33m)\u001b[0m\u001b[1;33m.\u001b[0m\u001b[1;33m\u001b[0m\u001b[1;33m\u001b[0m\u001b[0m\n\u001b[0;32m    103\u001b[0m     \"\"\"\n\u001b[1;32m--> 104\u001b[1;33m     \u001b[0mcomponent_spec\u001b[0m \u001b[1;33m=\u001b[0m \u001b[0m_load_component_spec_from_file\u001b[0m\u001b[1;33m(\u001b[0m\u001b[0mpath\u001b[0m\u001b[1;33m=\u001b[0m\u001b[0mfilename\u001b[0m\u001b[1;33m)\u001b[0m\u001b[1;33m\u001b[0m\u001b[1;33m\u001b[0m\u001b[0m\n\u001b[0m\u001b[0;32m    105\u001b[0m     return _create_task_factory_from_component_spec(\n\u001b[0;32m    106\u001b[0m         \u001b[0mcomponent_spec\u001b[0m\u001b[1;33m=\u001b[0m\u001b[0mcomponent_spec\u001b[0m\u001b[1;33m,\u001b[0m\u001b[1;33m\u001b[0m\u001b[1;33m\u001b[0m\u001b[0m\n",
      "\u001b[1;32m~\\anaconda3\\envs\\tf-gpu\\lib\\site-packages\\kfp\\components\\_components.py\u001b[0m in \u001b[0;36m_load_component_spec_from_file\u001b[1;34m(path)\u001b[0m\n\u001b[0;32m    152\u001b[0m \u001b[1;33m\u001b[0m\u001b[0m\n\u001b[0;32m    153\u001b[0m \u001b[1;32mdef\u001b[0m \u001b[0m_load_component_spec_from_file\u001b[0m\u001b[1;33m(\u001b[0m\u001b[0mpath\u001b[0m\u001b[1;33m)\u001b[0m \u001b[1;33m->\u001b[0m \u001b[0mComponentSpec\u001b[0m\u001b[1;33m:\u001b[0m\u001b[1;33m\u001b[0m\u001b[1;33m\u001b[0m\u001b[0m\n\u001b[1;32m--> 154\u001b[1;33m     \u001b[1;32mwith\u001b[0m \u001b[0mopen\u001b[0m\u001b[1;33m(\u001b[0m\u001b[0mpath\u001b[0m\u001b[1;33m,\u001b[0m \u001b[1;34m'rb'\u001b[0m\u001b[1;33m)\u001b[0m \u001b[1;32mas\u001b[0m \u001b[0mcomponent_stream\u001b[0m\u001b[1;33m:\u001b[0m\u001b[1;33m\u001b[0m\u001b[1;33m\u001b[0m\u001b[0m\n\u001b[0m\u001b[0;32m    155\u001b[0m         return _load_component_spec_from_yaml_or_zip_bytes(\n\u001b[0;32m    156\u001b[0m             component_stream.read())\n",
      "\u001b[1;31mFileNotFoundError\u001b[0m: [Errno 2] No such file or directory: './build/tensorflow_airbus.yaml'"
     ]
    }
   ],
   "source": [
    "trainer_component = kfp.components.load_component_from_file(\"./build/tensorflow_airbus.yaml\")\n",
    "gen_train_hist_component = kfp.components.load_component_from_file(\"./build/gen_train_hist_component.yaml\")"
   ]
  },
  {
   "cell_type": "code",
   "execution_count": 28,
   "id": "unlike-perry",
   "metadata": {},
   "outputs": [],
   "source": [
    "# Define the pipeline\n",
    "@dsl.pipeline(\n",
    "   name='airbus-mle',\n",
    "   description='Model training pipeline for MLE Project for airbus detection.',\n",
    "   pipeline_root=PIPELINE_ROOT\n",
    ")\n",
    "\n",
    "def airbus_component_deploy_pipeline(\n",
    "    project_dict: dict, \n",
    "    source_url: str,\n",
    "    gcs_bucket: str,\n",
    "    metrics_thresholds: dict,\n",
    "    model_output_folder: str\n",
    "):\n",
    "    \n",
    "    import_task = import_file_component(\n",
    "        project_dict = project_dict\n",
    "    ).set_display_name(\"Import data from BigQuery and run preprocessing\")\n",
    "    \n",
    "    gen_train_hist_task = gen_train_hist_component(\n",
    "        project_dict = project_dict\n",
    "    ).after(import_task).set_display_name(\"Generate input image statistics\")\n",
    "    \n",
    "    trainer_path = trainer_component(\n",
    "        model_dir = 'gs://mle_airbus_dataset/trained_model/',\n",
    "        train_data_dir = import_task.outputs['train_data_fpath'],\n",
    "        eval_data_dir = import_task.outputs['test_data_fpath']\n",
    "    ).set_display_name(\"Model training\").after(import_task)\n",
    "        \n",
    "    model_eval_task = model_eval_component(\n",
    "        test_filepath = import_task.outputs['test_data_fpath'],\n",
    "        model_filepath = trainer_path.output\n",
    "    ).set_display_name(\"Run model evaluation on selected metrics\").after(trainer_path)\n",
    "    \n",
    "    model_eval_test = model_eval_test_component(\n",
    "        metrics = model_eval_task.output\n",
    "    ).set_display_name(\"Test if model evaluation results passed\")\n",
    "\n",
    "    importer_spec = importer_node.importer(\n",
    "      artifact_uri= trainer_path.output,\n",
    "      artifact_class=artifact_types.UnmanagedContainerModel,\n",
    "      metadata={\n",
    "          'containerSpec': {\n",
    "              'imageUri': DEPLOY_IMAGE\n",
    "          }\n",
    "      }).after(model_eval_test).set_display_name(\"Import trained model image\")\n",
    "\n",
    "    model_upload_with_artifact_op = gcpc_aip.ModelUploadOp(\n",
    "      project=PROJECT_ID,\n",
    "      location=REGION,\n",
    "      display_name=MODEL_DISPLAY_NAME,\n",
    "      unmanaged_container_model=importer_spec.outputs['artifact']).set_display_name(\"Model upload\")\n",
    "\n",
    "    model_upload_with_artifact_op.after(importer_spec)\n",
    "\n",
    "    endpoint_create_op = EndpointCreateOp(\n",
    "        project=PROJECT_ID,\n",
    "        location=REGION,\n",
    "        display_name=ENDPOINT_DISPLAY_NAME,\n",
    "    ).set_display_name(\"Create end point for deployment\")\n",
    "\n",
    "    model_deploy_op = ModelDeployOp(\n",
    "        endpoint=endpoint_create_op.outputs[\"endpoint\"],\n",
    "        model=model_upload_with_artifact_op.outputs[\"model\"],\n",
    "        deployed_model_display_name=MODEL_DEPLOY_DISPLAY_NAME,\n",
    "        dedicated_resources_machine_type=DEPLOY_COMPUTE,\n",
    "        dedicated_resources_accelerator_type=ACCELERATOR_TYPE,\n",
    "        dedicated_resources_accelerator_count=1,\n",
    "        dedicated_resources_min_replica_count=1,\n",
    "        dedicated_resources_max_replica_count=1,\n",
    "        traffic_split = {0: 100},\n",
    "    ).set_display_name(\"Model deployment and serving\")\n",
    "\n",
    "    test_deployment_task = test_deployment_component(\n",
    "        endpoint = endpoint_create_op.outputs[\"endpoint\"],\n",
    "        project_dict = project_dict\n",
    "    ).after(model_deploy_op).set_display_name(\"Test model deployment\")\n",
    "        \n",
    "    return True"
   ]
  },
  {
   "cell_type": "markdown",
   "id": "labeled-translator",
   "metadata": {},
   "source": [
    "## Pipeline Compilation and Submission"
   ]
  },
  {
   "cell_type": "code",
   "execution_count": 29,
   "id": "engaged-coating",
   "metadata": {},
   "outputs": [
    {
     "name": "stderr",
     "output_type": "stream",
     "text": [
      "C:\\Users\\songh\\anaconda3\\envs\\tf-gpu\\lib\\site-packages\\kfp\\v2\\compiler\\compiler.py:1278: FutureWarning: APIs imported from the v1 namespace (e.g. kfp.dsl, kfp.components, etc) will not be supported by the v2 compiler since v2.0.0\n",
      "  warnings.warn(\n"
     ]
    },
    {
     "ename": "NameError",
     "evalue": "name 'import_file_component' is not defined",
     "output_type": "error",
     "traceback": [
      "\u001b[1;31m---------------------------------------------------------------------------\u001b[0m",
      "\u001b[1;31mNameError\u001b[0m                                 Traceback (most recent call last)",
      "\u001b[1;32m<ipython-input-29-4d3648b86b8a>\u001b[0m in \u001b[0;36m<module>\u001b[1;34m\u001b[0m\n\u001b[0;32m      1\u001b[0m \u001b[1;32mfrom\u001b[0m \u001b[0mkfp\u001b[0m\u001b[1;33m.\u001b[0m\u001b[0mv2\u001b[0m \u001b[1;32mimport\u001b[0m \u001b[0mcompiler\u001b[0m\u001b[1;33m\u001b[0m\u001b[1;33m\u001b[0m\u001b[0m\n\u001b[0;32m      2\u001b[0m \u001b[1;33m\u001b[0m\u001b[0m\n\u001b[1;32m----> 3\u001b[1;33m \u001b[0mcompiler\u001b[0m\u001b[1;33m.\u001b[0m\u001b[0mCompiler\u001b[0m\u001b[1;33m(\u001b[0m\u001b[1;33m)\u001b[0m\u001b[1;33m.\u001b[0m\u001b[0mcompile\u001b[0m\u001b[1;33m(\u001b[0m\u001b[0mpipeline_func\u001b[0m\u001b[1;33m=\u001b[0m\u001b[0mairbus_component_deploy_pipeline\u001b[0m\u001b[1;33m,\u001b[0m \u001b[0mpackage_path\u001b[0m\u001b[1;33m=\u001b[0m\u001b[1;34m\"airbusmle_pipeline.json\"\u001b[0m\u001b[1;33m)\u001b[0m\u001b[1;33m\u001b[0m\u001b[1;33m\u001b[0m\u001b[0m\n\u001b[0m\u001b[0;32m      4\u001b[0m \u001b[1;33m\u001b[0m\u001b[0m\n\u001b[0;32m      5\u001b[0m params = {'project_dict': project_dict, \n",
      "\u001b[1;32m~\\anaconda3\\envs\\tf-gpu\\lib\\site-packages\\kfp\\v2\\compiler\\compiler.py\u001b[0m in \u001b[0;36mcompile\u001b[1;34m(self, pipeline_func, package_path, pipeline_name, pipeline_parameters, type_check)\u001b[0m\n\u001b[0;32m   1287\u001b[0m             \u001b[0mkfp\u001b[0m\u001b[1;33m.\u001b[0m\u001b[0mTYPE_CHECK\u001b[0m \u001b[1;33m=\u001b[0m \u001b[0mtype_check\u001b[0m\u001b[1;33m\u001b[0m\u001b[1;33m\u001b[0m\u001b[0m\n\u001b[0;32m   1288\u001b[0m             \u001b[0mkfp\u001b[0m\u001b[1;33m.\u001b[0m\u001b[0mCOMPILING_FOR_V2\u001b[0m \u001b[1;33m=\u001b[0m \u001b[1;32mTrue\u001b[0m\u001b[1;33m\u001b[0m\u001b[1;33m\u001b[0m\u001b[0m\n\u001b[1;32m-> 1289\u001b[1;33m             pipeline_job = self._create_pipeline_v2(\n\u001b[0m\u001b[0;32m   1290\u001b[0m                 \u001b[0mpipeline_func\u001b[0m\u001b[1;33m=\u001b[0m\u001b[0mpipeline_func\u001b[0m\u001b[1;33m,\u001b[0m\u001b[1;33m\u001b[0m\u001b[1;33m\u001b[0m\u001b[0m\n\u001b[0;32m   1291\u001b[0m                 \u001b[0mpipeline_name\u001b[0m\u001b[1;33m=\u001b[0m\u001b[0mpipeline_name\u001b[0m\u001b[1;33m,\u001b[0m\u001b[1;33m\u001b[0m\u001b[1;33m\u001b[0m\u001b[0m\n",
      "\u001b[1;32m~\\anaconda3\\envs\\tf-gpu\\lib\\site-packages\\kfp\\v2\\compiler\\compiler.py\u001b[0m in \u001b[0;36m_create_pipeline_v2\u001b[1;34m(self, pipeline_func, pipeline_name, pipeline_parameters_override)\u001b[0m\n\u001b[0;32m   1209\u001b[0m \u001b[1;33m\u001b[0m\u001b[0m\n\u001b[0;32m   1210\u001b[0m         \u001b[1;32mwith\u001b[0m \u001b[0mdsl\u001b[0m\u001b[1;33m.\u001b[0m\u001b[0mPipeline\u001b[0m\u001b[1;33m(\u001b[0m\u001b[0mpipeline_name\u001b[0m\u001b[1;33m)\u001b[0m \u001b[1;32mas\u001b[0m \u001b[0mdsl_pipeline\u001b[0m\u001b[1;33m:\u001b[0m\u001b[1;33m\u001b[0m\u001b[1;33m\u001b[0m\u001b[0m\n\u001b[1;32m-> 1211\u001b[1;33m             \u001b[0mpipeline_func\u001b[0m\u001b[1;33m(\u001b[0m\u001b[1;33m*\u001b[0m\u001b[0margs_list\u001b[0m\u001b[1;33m)\u001b[0m\u001b[1;33m\u001b[0m\u001b[1;33m\u001b[0m\u001b[0m\n\u001b[0m\u001b[0;32m   1212\u001b[0m \u001b[1;33m\u001b[0m\u001b[0m\n\u001b[0;32m   1213\u001b[0m         \u001b[1;32mif\u001b[0m \u001b[1;32mnot\u001b[0m \u001b[0mdsl_pipeline\u001b[0m\u001b[1;33m.\u001b[0m\u001b[0mops\u001b[0m\u001b[1;33m:\u001b[0m\u001b[1;33m\u001b[0m\u001b[1;33m\u001b[0m\u001b[0m\n",
      "\u001b[1;32m<ipython-input-28-79d37ddc83d5>\u001b[0m in \u001b[0;36mairbus_component_deploy_pipeline\u001b[1;34m(project_dict, source_url, gcs_bucket, metrics_thresholds, model_output_folder)\u001b[0m\n\u001b[0;32m     14\u001b[0m ):\n\u001b[0;32m     15\u001b[0m \u001b[1;33m\u001b[0m\u001b[0m\n\u001b[1;32m---> 16\u001b[1;33m     import_task = import_file_component(\n\u001b[0m\u001b[0;32m     17\u001b[0m         \u001b[0mproject_dict\u001b[0m \u001b[1;33m=\u001b[0m \u001b[0mproject_dict\u001b[0m\u001b[1;33m\u001b[0m\u001b[1;33m\u001b[0m\u001b[0m\n\u001b[0;32m     18\u001b[0m     ).set_display_name(\"Import data from BigQuery and run preprocessing\")\n",
      "\u001b[1;31mNameError\u001b[0m: name 'import_file_component' is not defined"
     ]
    }
   ],
   "source": [
    "from kfp.v2 import compiler  \n",
    "\n",
    "compiler.Compiler().compile(pipeline_func=airbus_component_deploy_pipeline, package_path=\"airbusmle_pipeline.json\")\n",
    "\n",
    "params = {'project_dict': project_dict, \n",
    "        'source_url': source_url, \n",
    "        'gcs_bucket': GCS_BUCKET,\n",
    "        'metrics_thresholds': metrics_thresholds,\n",
    "       'model_output_folder': 'default'}\n",
    "\n",
    "job = aip.PipelineJob(display_name='default', template_path=\"airbusmle_pipeline.json\", pipeline_root=PIPELINE_ROOT, parameter_values=params, enable_caching=False)\n",
    "job.submit()"
   ]
  },
  {
   "cell_type": "code",
   "execution_count": null,
   "id": "appropriate-complaint",
   "metadata": {},
   "outputs": [],
   "source": []
  }
 ],
 "metadata": {
  "kernelspec": {
   "display_name": "Python 3",
   "language": "python",
   "name": "python3"
  },
  "language_info": {
   "codemirror_mode": {
    "name": "ipython",
    "version": 3
   },
   "file_extension": ".py",
   "mimetype": "text/x-python",
   "name": "python",
   "nbconvert_exporter": "python",
   "pygments_lexer": "ipython3",
   "version": "3.8.5"
  }
 },
 "nbformat": 4,
 "nbformat_minor": 5
}
