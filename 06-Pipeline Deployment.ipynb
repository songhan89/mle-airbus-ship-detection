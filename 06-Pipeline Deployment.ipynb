{
 "cells": [
  {
   "cell_type": "code",
   "execution_count": 2,
   "id": "marine-anxiety",
   "metadata": {},
   "outputs": [],
   "source": [
    "import os\n",
    "import time\n",
    "import logging\n",
    "import kfp\n",
    "from google.cloud import bigquery, storage\n",
    "from google.cloud import aiplatform as vertex_ai\n",
    "from google_cloud_pipeline_components.experimental.custom_job import utils\n",
    "from kfp.v2 import compiler, dsl\n",
    "from kfp.v2.dsl import component\n",
    "from typing import NamedTuple\n",
    "from kfp.v2.dsl import (Artifact, Dataset, Input, InputPath, Model, Output, Metrics,\n",
    "                        OutputPath, component)\n",
    "\n",
    "from google_cloud_pipeline_components.experimental.custom_job import utils"
   ]
  },
  {
   "cell_type": "code",
   "execution_count": 3,
   "id": "southern-raising",
   "metadata": {},
   "outputs": [],
   "source": [
    "logging.basicConfig(level=logging.INFO)"
   ]
  },
  {
   "cell_type": "markdown",
   "id": "nearby-anderson",
   "metadata": {},
   "source": [
    "## Load Params and Resource Config"
   ]
  },
  {
   "cell_type": "code",
   "execution_count": 4,
   "id": "abandoned-equilibrium",
   "metadata": {},
   "outputs": [],
   "source": [
    "from config.gcp_resource import *"
   ]
  },
  {
   "cell_type": "code",
   "execution_count": 5,
   "id": "continued-scanner",
   "metadata": {},
   "outputs": [
    {
     "name": "stdout",
     "output_type": "stream",
     "text": [
      "Updated property [core/project].\n"
     ]
    }
   ],
   "source": [
    "if PROJECT_ID == \"\" or PROJECT_ID is None or PROJECT_ID == \"[your-project-id]\":\n",
    "    # Get your GCP project id from gcloud\n",
    "    shell_output = !gcloud config list --format 'value(core.project)' 2>/dev/null\n",
    "    PROJECT_ID = shell_output[0]\n",
    "    \n",
    "if SERVICE_ACCOUNT == \"\" or SERVICE_ACCOUNT is None or SERVICE_ACCOUNT == \"[your-service-account]\":\n",
    "    # Get your GCP project id from gcloud\n",
    "    shell_output = !gcloud config list --format 'value(core.account)' 2>/dev/null\n",
    "    SERVICE_ACCOUNT = shell_output[0]\n",
    "    \n",
    "if GCS_BUCKET == \"\" or GCS_BUCKET is None or GCS_BUCKET == \"[your-bucket-name]\":\n",
    "    # Get your bucket name to GCP projet id\n",
    "    GCS_BUCKET = PROJECT_ID\n",
    "    # Try to create the bucket if it doesn'exists\n",
    "    ! gsutil mb -l $REGION gs://$BUCKET\n",
    "    print(\"\")\n",
    "    \n",
    "!gcloud config set project {PROJECT_ID}"
   ]
  },
  {
   "cell_type": "code",
   "execution_count": 6,
   "id": "handmade-utility",
   "metadata": {},
   "outputs": [
    {
     "name": "stdout",
     "output_type": "stream",
     "text": [
      "Train machine type n1-standard-4\n",
      "Deploy machine type n1-standard-4\n",
      "Deployment: us-docker.pkg.dev/vertex-ai/prediction/tf2-cpu.2-8:latest\n",
      "PIPELINE_ROOT: gs://mle_airbus_dataset/airbusmlepipeline/pipeline_root\n",
      "MODULE_ROOT: gs://mle_airbus_dataset/airbusmlepipeline/pipeline_module\n",
      "DATA_ROOT: gs://mle_airbus_dataset/airbusmlepipeline/data\n",
      "SERVING_MODEL_DIR: gs://mle_airbus_dataset/airbusmlepipeline/serving_model\n"
     ]
    }
   ],
   "source": [
    "print(\"Train machine type\", TRAIN_COMPUTE)\n",
    "print(\"Deploy machine type\", DEPLOY_COMPUTE)\n",
    "print(\"Deployment:\", DEPLOY_IMAGE)\n",
    "print('PIPELINE_ROOT: {}'.format(PIPELINE_ROOT))\n",
    "print('MODULE_ROOT: {}'.format(MODULE_ROOT))\n",
    "print('DATA_ROOT: {}'.format(DATA_ROOT))\n",
    "print('SERVING_MODEL_DIR: {}'.format(SERVING_MODEL_DIR))"
   ]
  },
  {
   "cell_type": "markdown",
   "id": "educated-singer",
   "metadata": {},
   "source": [
    "## Create KFP pipeline"
   ]
  },
  {
   "cell_type": "code",
   "execution_count": 7,
   "id": "revised-foster",
   "metadata": {},
   "outputs": [],
   "source": [
    "from google_cloud_pipeline_components.types import artifact_types\n",
    "from google_cloud_pipeline_components.v1.custom_job import CustomTrainingJobOp\n",
    "from google_cloud_pipeline_components.v1.endpoint import (EndpointCreateOp,\n",
    "                                                          ModelDeployOp)\n",
    "from google_cloud_pipeline_components import aiplatform as gcpc_aip\n",
    "from kfp.v2.components import importer_node"
   ]
  },
  {
   "cell_type": "code",
   "execution_count": 21,
   "id": "proved-yesterday",
   "metadata": {},
   "outputs": [],
   "source": [
    "#trainer_component = kfp.components.load_component_from_file(\"./build/tensorflow_airbus.yaml\")\n",
    "#gen_train_hist_component = kfp.components.load_component_from_file(\"./build/gen_train_hist_component.yaml\")\n",
    "model_eval_component =  kfp.components.load_component_from_file(\"./build/model_eval_test_component.yaml\")\n",
    "test_deployment_component = kfp.components.load_component_from_file(\"./build/test_deployment_component.yaml\")"
   ]
  },
  {
   "cell_type": "code",
   "execution_count": 17,
   "id": "unlike-perry",
   "metadata": {},
   "outputs": [],
   "source": [
    "# Define the pipeline\n",
    "@dsl.pipeline(\n",
    "   name='airbus-mle',\n",
    "   description='Model training pipeline for MLE Project for airbus detection.',\n",
    "   pipeline_root=PIPELINE_ROOT\n",
    ")\n",
    "\n",
    "def airbus_component_deploy_pipeline(\n",
    "    project_dict: dict, \n",
    "    gcs_bucket: str,\n",
    "    metrics_thresholds: dict,\n",
    "    model_output_folder: str\n",
    "):\n",
    "    \n",
    "    import_task = import_file_component(\n",
    "        project_dict = project_dict\n",
    "    ).set_display_name(\"Import data from BigQuery and run preprocessing\")\n",
    "    \n",
    "    gen_train_hist_task = gen_train_hist_component(\n",
    "        project_dict = project_dict\n",
    "    ).after(import_task).set_display_name(\"Generate input image statistics\")\n",
    "    \n",
    "    trainer_path = trainer_component(\n",
    "        model_dir = 'gs://mle_airbus_dataset/trained_model/',\n",
    "        train_data_dir = import_task.outputs['train_data_fpath'],\n",
    "        eval_data_dir = import_task.outputs['test_data_fpath']\n",
    "    ).set_display_name(\"Model training\").after(import_task)\n",
    "        \n",
    "    model_eval_task = model_eval_component(\n",
    "        test_filepath = import_task.outputs['test_data_fpath'],\n",
    "        model_filepath = trainer_path.output\n",
    "    ).set_display_name(\"Run model evaluation on selected metrics\").after(trainer_path)\n",
    "    \n",
    "    model_eval_test = model_eval_test_component(\n",
    "        metrics = model_eval_task.output\n",
    "    ).set_display_name(\"Test if model evaluation results passed\")\n",
    "\n",
    "    importer_spec = importer_node.importer(\n",
    "      artifact_uri= trainer_path.output,\n",
    "      artifact_class=artifact_types.UnmanagedContainerModel,\n",
    "      metadata={\n",
    "          'containerSpec': {\n",
    "              'imageUri': DEPLOY_IMAGE\n",
    "          }\n",
    "      }).after(model_eval_test).set_display_name(\"Import trained model image\")\n",
    "\n",
    "    model_upload_with_artifact_op = gcpc_aip.ModelUploadOp(\n",
    "      project=PROJECT_ID,\n",
    "      location=REGION,\n",
    "      display_name=MODEL_DISPLAY_NAME,\n",
    "      unmanaged_container_model=importer_spec.outputs['artifact']).set_display_name(\"Model upload\")\n",
    "\n",
    "    model_upload_with_artifact_op.after(importer_spec)\n",
    "\n",
    "    endpoint_create_op = EndpointCreateOp(\n",
    "        project=PROJECT_ID,\n",
    "        location=REGION,\n",
    "        display_name=ENDPOINT_DISPLAY_NAME,\n",
    "    ).set_display_name(\"Create end point for deployment\")\n",
    "\n",
    "    model_deploy_op = ModelDeployOp(\n",
    "        endpoint=endpoint_create_op.outputs[\"endpoint\"],\n",
    "        model=model_upload_with_artifact_op.outputs[\"model\"],\n",
    "        deployed_model_display_name=MODEL_DEPLOY_DISPLAY_NAME,\n",
    "        dedicated_resources_machine_type=DEPLOY_COMPUTE,\n",
    "        dedicated_resources_min_replica_count=1,\n",
    "        dedicated_resources_max_replica_count=1,\n",
    "        traffic_split = {0: 100},\n",
    "    ).set_display_name(\"Model deployment and serving\")\n",
    "\n",
    "    test_deployment_task = test_deployment_component(\n",
    "        endpoint = endpoint_create_op.outputs[\"endpoint\"],\n",
    "        project_dict = project_dict\n",
    "    ).after(model_deploy_op).set_display_name(\"Test model deployment\")\n",
    "        \n",
    "    return True"
   ]
  },
  {
   "cell_type": "markdown",
   "id": "labeled-translator",
   "metadata": {},
   "source": [
    "## Pipeline Compilation and Submission"
   ]
  },
  {
   "cell_type": "code",
   "execution_count": 18,
   "id": "engaged-coating",
   "metadata": {},
   "outputs": [
    {
     "ename": "NameError",
     "evalue": "name 'import_file_component' is not defined",
     "output_type": "error",
     "traceback": [
      "\u001b[0;31m---------------------------------------------------------------------------\u001b[0m",
      "\u001b[0;31mNameError\u001b[0m                                 Traceback (most recent call last)",
      "\u001b[0;32m/tmp/ipykernel_11527/2864090533.py\u001b[0m in \u001b[0;36m<module>\u001b[0;34m\u001b[0m\n\u001b[1;32m      3\u001b[0m \u001b[0maip\u001b[0m\u001b[0;34m.\u001b[0m\u001b[0minit\u001b[0m\u001b[0;34m(\u001b[0m\u001b[0mproject\u001b[0m\u001b[0;34m=\u001b[0m\u001b[0mPROJECT_ID\u001b[0m\u001b[0;34m,\u001b[0m \u001b[0mlocation\u001b[0m\u001b[0;34m=\u001b[0m\u001b[0mREGION\u001b[0m\u001b[0;34m)\u001b[0m\u001b[0;34m\u001b[0m\u001b[0;34m\u001b[0m\u001b[0m\n\u001b[1;32m      4\u001b[0m \u001b[0;34m\u001b[0m\u001b[0m\n\u001b[0;32m----> 5\u001b[0;31m \u001b[0mcompiler\u001b[0m\u001b[0;34m.\u001b[0m\u001b[0mCompiler\u001b[0m\u001b[0;34m(\u001b[0m\u001b[0;34m)\u001b[0m\u001b[0;34m.\u001b[0m\u001b[0mcompile\u001b[0m\u001b[0;34m(\u001b[0m\u001b[0mpipeline_func\u001b[0m\u001b[0;34m=\u001b[0m\u001b[0mairbus_component_deploy_pipeline\u001b[0m\u001b[0;34m,\u001b[0m \u001b[0mpackage_path\u001b[0m\u001b[0;34m=\u001b[0m\u001b[0;34m\"./build/airbusmle_pipeline.json\"\u001b[0m\u001b[0;34m)\u001b[0m\u001b[0;34m\u001b[0m\u001b[0;34m\u001b[0m\u001b[0m\n\u001b[0m\u001b[1;32m      6\u001b[0m \u001b[0;34m\u001b[0m\u001b[0m\n\u001b[1;32m      7\u001b[0m params = {'project_dict': project_dict, \n",
      "\u001b[0;32m~/.local/lib/python3.7/site-packages/kfp/v2/compiler/compiler.py\u001b[0m in \u001b[0;36mcompile\u001b[0;34m(self, pipeline_func, package_path, pipeline_name, pipeline_parameters, type_check)\u001b[0m\n\u001b[1;32m   1290\u001b[0m                 \u001b[0mpipeline_func\u001b[0m\u001b[0;34m=\u001b[0m\u001b[0mpipeline_func\u001b[0m\u001b[0;34m,\u001b[0m\u001b[0;34m\u001b[0m\u001b[0;34m\u001b[0m\u001b[0m\n\u001b[1;32m   1291\u001b[0m                 \u001b[0mpipeline_name\u001b[0m\u001b[0;34m=\u001b[0m\u001b[0mpipeline_name\u001b[0m\u001b[0;34m,\u001b[0m\u001b[0;34m\u001b[0m\u001b[0;34m\u001b[0m\u001b[0m\n\u001b[0;32m-> 1292\u001b[0;31m                 pipeline_parameters_override=pipeline_parameters)\n\u001b[0m\u001b[1;32m   1293\u001b[0m             \u001b[0mself\u001b[0m\u001b[0;34m.\u001b[0m\u001b[0m_write_pipeline\u001b[0m\u001b[0;34m(\u001b[0m\u001b[0mpipeline_job\u001b[0m\u001b[0;34m,\u001b[0m \u001b[0mpackage_path\u001b[0m\u001b[0;34m)\u001b[0m\u001b[0;34m\u001b[0m\u001b[0;34m\u001b[0m\u001b[0m\n\u001b[1;32m   1294\u001b[0m         \u001b[0;32mfinally\u001b[0m\u001b[0;34m:\u001b[0m\u001b[0;34m\u001b[0m\u001b[0;34m\u001b[0m\u001b[0m\n",
      "\u001b[0;32m~/.local/lib/python3.7/site-packages/kfp/v2/compiler/compiler.py\u001b[0m in \u001b[0;36m_create_pipeline_v2\u001b[0;34m(self, pipeline_func, pipeline_name, pipeline_parameters_override)\u001b[0m\n\u001b[1;32m   1209\u001b[0m \u001b[0;34m\u001b[0m\u001b[0m\n\u001b[1;32m   1210\u001b[0m         \u001b[0;32mwith\u001b[0m \u001b[0mdsl\u001b[0m\u001b[0;34m.\u001b[0m\u001b[0mPipeline\u001b[0m\u001b[0;34m(\u001b[0m\u001b[0mpipeline_name\u001b[0m\u001b[0;34m)\u001b[0m \u001b[0;32mas\u001b[0m \u001b[0mdsl_pipeline\u001b[0m\u001b[0;34m:\u001b[0m\u001b[0;34m\u001b[0m\u001b[0;34m\u001b[0m\u001b[0m\n\u001b[0;32m-> 1211\u001b[0;31m             \u001b[0mpipeline_func\u001b[0m\u001b[0;34m(\u001b[0m\u001b[0;34m*\u001b[0m\u001b[0margs_list\u001b[0m\u001b[0;34m)\u001b[0m\u001b[0;34m\u001b[0m\u001b[0;34m\u001b[0m\u001b[0m\n\u001b[0m\u001b[1;32m   1212\u001b[0m \u001b[0;34m\u001b[0m\u001b[0m\n\u001b[1;32m   1213\u001b[0m         \u001b[0;32mif\u001b[0m \u001b[0;32mnot\u001b[0m \u001b[0mdsl_pipeline\u001b[0m\u001b[0;34m.\u001b[0m\u001b[0mops\u001b[0m\u001b[0;34m:\u001b[0m\u001b[0;34m\u001b[0m\u001b[0;34m\u001b[0m\u001b[0m\n",
      "\u001b[0;32m/tmp/ipykernel_11527/3084342117.py\u001b[0m in \u001b[0;36mairbus_component_deploy_pipeline\u001b[0;34m(project_dict, gcs_bucket, metrics_thresholds, model_output_folder)\u001b[0m\n\u001b[1;32m     13\u001b[0m ):\n\u001b[1;32m     14\u001b[0m \u001b[0;34m\u001b[0m\u001b[0m\n\u001b[0;32m---> 15\u001b[0;31m     import_task = import_file_component(\n\u001b[0m\u001b[1;32m     16\u001b[0m         \u001b[0mproject_dict\u001b[0m \u001b[0;34m=\u001b[0m \u001b[0mproject_dict\u001b[0m\u001b[0;34m\u001b[0m\u001b[0;34m\u001b[0m\u001b[0m\n\u001b[1;32m     17\u001b[0m     ).set_display_name(\"Import data from BigQuery and run preprocessing\")\n",
      "\u001b[0;31mNameError\u001b[0m: name 'import_file_component' is not defined"
     ]
    }
   ],
   "source": [
    "import google.cloud.aiplatform as aip\n",
    "from kfp.v2 import compiler  \n",
    "aip.init(project=PROJECT_ID, location=REGION)\n",
    "\n",
    "compiler.Compiler().compile(pipeline_func=airbus_component_deploy_pipeline, package_path=\"./build/airbusmle_pipeline.json\")\n",
    "\n",
    "params = {'project_dict': project_dict, \n",
    "        'gcs_bucket': GCS_BUCKET,\n",
    "        'metrics_thresholds': metrics_thresholds,\n",
    "       'model_output_folder': 'default'}\n",
    "\n",
    "job = aip.PipelineJob(display_name='default', template_path=\"./build/airbusmle_pipeline.json\", pipeline_root=PIPELINE_ROOT, parameter_values=params, enable_caching=True)\n",
    "job.submit()"
   ]
  },
  {
   "cell_type": "markdown",
   "id": "234590b7-50fe-4317-9d07-47e945ef3c09",
   "metadata": {},
   "source": [
    "## Pipeline Tester"
   ]
  },
  {
   "cell_type": "code",
   "execution_count": 22,
   "id": "684c43f0-13fd-48f5-9c7c-ec2e28c7770e",
   "metadata": {},
   "outputs": [],
   "source": [
    "# Define the pipeline\n",
    "@dsl.pipeline(\n",
    "   name='airbus-mle',\n",
    "   description='Model training pipeline for MLE Project for airbus detection.',\n",
    "   pipeline_root=PIPELINE_ROOT\n",
    ")\n",
    "\n",
    "def airbus_component_deploy_pipeline(\n",
    "    project_dict: dict, \n",
    "    gcs_bucket: str,\n",
    "    metrics_thresholds: dict,\n",
    "    model_output_folder: str\n",
    "):\n",
    "    \n",
    "#     import_task = import_file_component(\n",
    "#         project_dict = project_dict\n",
    "#     ).set_display_name(\"Import data from BigQuery and run preprocessing\")\n",
    "    \n",
    "#     gen_train_hist_task = gen_train_hist_component(\n",
    "#         project_dict = project_dict\n",
    "#     ).after(import_task).set_display_name(\"Generate input image statistics\")\n",
    "    \n",
    "#     trainer_path = trainer_component(\n",
    "#         model_dir = 'gs://mle_airbus_dataset/trained_model/segm_full_200_20220626-143859/',\n",
    "#         train_data_dir = import_task.outputs['train_data_fpath'],\n",
    "#         eval_data_dir = import_task.outputs['test_data_fpath']\n",
    "#     ).set_display_name(\"Model training\").after(import_task)\n",
    "        \n",
    "#     model_eval_task = model_eval_component(\n",
    "#         test_filepath = import_task.outputs['test_data_fpath'],\n",
    "#         model_filepath = trainer_path.output\n",
    "#     ).set_display_name(\"Run model evaluation on selected metrics\").after(trainer_path)\n",
    "    \n",
    "#     model_eval_test = model_eval_test_component(\n",
    "#         metrics = model_eval_task.output\n",
    "#     ).set_display_name(\"Test if model evaluation results passed\")\n",
    "\n",
    "    importer_spec = importer_node.importer(\n",
    "      artifact_uri= \"gs://mle_airbus_dataset/trained_model/segm_full_200_20220626-143859/\",\n",
    "      artifact_class=artifact_types.UnmanagedContainerModel,\n",
    "      metadata={\n",
    "          'containerSpec': {\n",
    "              'imageUri': DEPLOY_IMAGE\n",
    "          }\n",
    "      }).set_display_name(\"Import trained model image\")\n",
    "\n",
    "    model_upload_with_artifact_op = gcpc_aip.ModelUploadOp(\n",
    "      project=PROJECT_ID,\n",
    "      location=REGION,\n",
    "      display_name=MODEL_DISPLAY_NAME,\n",
    "      unmanaged_container_model=importer_spec.outputs['artifact']).set_display_name(\"Model upload\")\n",
    "\n",
    "    model_upload_with_artifact_op.after(importer_spec)\n",
    "\n",
    "    endpoint_create_op = EndpointCreateOp(\n",
    "        project=PROJECT_ID,\n",
    "        location=REGION,\n",
    "        display_name=ENDPOINT_DISPLAY_NAME,\n",
    "    ).set_display_name(\"Create end point for deployment\")\n",
    "\n",
    "    model_deploy_op = ModelDeployOp(\n",
    "        endpoint=endpoint_create_op.outputs[\"endpoint\"],\n",
    "        model=model_upload_with_artifact_op.outputs[\"model\"],\n",
    "        deployed_model_display_name=MODEL_DEPLOY_DISPLAY_NAME,\n",
    "        dedicated_resources_machine_type=DEPLOY_COMPUTE,\n",
    "        dedicated_resources_min_replica_count=1,\n",
    "        dedicated_resources_max_replica_count=1,\n",
    "        traffic_split = {0: 100},\n",
    "    ).set_display_name(\"Model deployment and serving\")\n",
    "\n",
    "    test_deployment_task = test_deployment_component(\n",
    "        endpoint = endpoint_create_op.outputs[\"endpoint\"],\n",
    "        project_dict = project_dict\n",
    "    ).after(model_deploy_op).set_display_name(\"Test model deployment\")\n",
    "        \n",
    "    return True"
   ]
  },
  {
   "cell_type": "code",
   "execution_count": 23,
   "id": "a4b6566d-8310-474a-b3f6-91ceefa3fa57",
   "metadata": {},
   "outputs": [
    {
     "name": "stdout",
     "output_type": "stream",
     "text": [
      "Creating PipelineJob\n"
     ]
    },
    {
     "name": "stderr",
     "output_type": "stream",
     "text": [
      "INFO:google.cloud.aiplatform.pipeline_jobs:Creating PipelineJob\n"
     ]
    },
    {
     "name": "stdout",
     "output_type": "stream",
     "text": [
      "PipelineJob created. Resource name: projects/484894607141/locations/asia-east1/pipelineJobs/airbus-mle-20220703090818\n"
     ]
    },
    {
     "name": "stderr",
     "output_type": "stream",
     "text": [
      "INFO:google.cloud.aiplatform.pipeline_jobs:PipelineJob created. Resource name: projects/484894607141/locations/asia-east1/pipelineJobs/airbus-mle-20220703090818\n"
     ]
    },
    {
     "name": "stdout",
     "output_type": "stream",
     "text": [
      "To use this PipelineJob in another session:\n"
     ]
    },
    {
     "name": "stderr",
     "output_type": "stream",
     "text": [
      "INFO:google.cloud.aiplatform.pipeline_jobs:To use this PipelineJob in another session:\n"
     ]
    },
    {
     "name": "stdout",
     "output_type": "stream",
     "text": [
      "pipeline_job = aiplatform.PipelineJob.get('projects/484894607141/locations/asia-east1/pipelineJobs/airbus-mle-20220703090818')\n"
     ]
    },
    {
     "name": "stderr",
     "output_type": "stream",
     "text": [
      "INFO:google.cloud.aiplatform.pipeline_jobs:pipeline_job = aiplatform.PipelineJob.get('projects/484894607141/locations/asia-east1/pipelineJobs/airbus-mle-20220703090818')\n"
     ]
    },
    {
     "name": "stdout",
     "output_type": "stream",
     "text": [
      "View Pipeline Job:\n",
      "https://console.cloud.google.com/vertex-ai/locations/asia-east1/pipelines/runs/airbus-mle-20220703090818?project=484894607141\n"
     ]
    },
    {
     "name": "stderr",
     "output_type": "stream",
     "text": [
      "INFO:google.cloud.aiplatform.pipeline_jobs:View Pipeline Job:\n",
      "https://console.cloud.google.com/vertex-ai/locations/asia-east1/pipelines/runs/airbus-mle-20220703090818?project=484894607141\n"
     ]
    }
   ],
   "source": [
    "import google.cloud.aiplatform as aip\n",
    "from kfp.v2 import compiler  \n",
    "aip.init(project=PROJECT_ID, location=REGION)\n",
    "\n",
    "compiler.Compiler().compile(pipeline_func=airbus_component_deploy_pipeline, package_path=\"./build/airbusmle_pipeline.json\")\n",
    "\n",
    "params = {'project_dict': project_dict, \n",
    "        'gcs_bucket': GCS_BUCKET,\n",
    "        'metrics_thresholds': metrics_thresholds,\n",
    "       'model_output_folder': 'default'}\n",
    "\n",
    "job = aip.PipelineJob(display_name='default', template_path=\"./build/airbusmle_pipeline.json\", pipeline_root=PIPELINE_ROOT, parameter_values=params, enable_caching=True)\n",
    "job.submit()"
   ]
  },
  {
   "cell_type": "code",
   "execution_count": null,
   "id": "cff9f5e5-1e56-4f5e-9b5e-bd3444e4d703",
   "metadata": {},
   "outputs": [],
   "source": []
  }
 ],
 "metadata": {
  "environment": {
   "kernel": "python3",
   "name": "tf2-gpu.2-8.m93",
   "type": "gcloud",
   "uri": "gcr.io/deeplearning-platform-release/tf2-gpu.2-8:m93"
  },
  "kernelspec": {
   "display_name": "Python 3",
   "language": "python",
   "name": "python3"
  },
  "language_info": {
   "codemirror_mode": {
    "name": "ipython",
    "version": 3
   },
   "file_extension": ".py",
   "mimetype": "text/x-python",
   "name": "python",
   "nbconvert_exporter": "python",
   "pygments_lexer": "ipython3",
   "version": "3.7.12"
  }
 },
 "nbformat": 4,
 "nbformat_minor": 5
}
