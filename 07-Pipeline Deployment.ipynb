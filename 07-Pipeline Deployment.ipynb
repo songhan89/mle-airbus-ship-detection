{
 "cells": [
  {
   "cell_type": "code",
   "execution_count": 2,
   "id": "marine-anxiety",
   "metadata": {},
   "outputs": [],
   "source": [
    "import os\n",
    "import time\n",
    "import logging\n",
    "import kfp\n",
    "from google.cloud import bigquery, storage\n",
    "from google.cloud import aiplatform as vertex_ai\n",
    "from google_cloud_pipeline_components.experimental.custom_job import utils\n",
    "from kfp.v2 import compiler, dsl\n",
    "from kfp.v2.dsl import component\n",
    "from typing import NamedTuple\n",
    "from kfp.v2.dsl import (Artifact, Dataset, Input, InputPath, Model, Output, Metrics,\n",
    "                        OutputPath, component)\n",
    "\n",
    "from google_cloud_pipeline_components.experimental.custom_job import utils"
   ]
  },
  {
   "cell_type": "code",
   "execution_count": 3,
   "id": "southern-raising",
   "metadata": {},
   "outputs": [],
   "source": [
    "logging.basicConfig(level=logging.INFO)"
   ]
  },
  {
   "cell_type": "markdown",
   "id": "nearby-anderson",
   "metadata": {},
   "source": [
    "## Load Params and Resource Config"
   ]
  },
  {
   "cell_type": "code",
   "execution_count": 4,
   "id": "abandoned-equilibrium",
   "metadata": {},
   "outputs": [],
   "source": [
    "from config.gcp_resource import *"
   ]
  },
  {
   "cell_type": "code",
   "execution_count": 5,
   "id": "continued-scanner",
   "metadata": {},
   "outputs": [
    {
     "name": "stdout",
     "output_type": "stream",
     "text": [
      "Updated property [core/project].\n"
     ]
    }
   ],
   "source": [
    "if PROJECT_ID == \"\" or PROJECT_ID is None or PROJECT_ID == \"[your-project-id]\":\n",
    "    # Get your GCP project id from gcloud\n",
    "    shell_output = !gcloud config list --format 'value(core.project)' 2>/dev/null\n",
    "    PROJECT_ID = shell_output[0]\n",
    "    \n",
    "if SERVICE_ACCOUNT == \"\" or SERVICE_ACCOUNT is None or SERVICE_ACCOUNT == \"[your-service-account]\":\n",
    "    # Get your GCP project id from gcloud\n",
    "    shell_output = !gcloud config list --format 'value(core.account)' 2>/dev/null\n",
    "    SERVICE_ACCOUNT = shell_output[0]\n",
    "    \n",
    "if GCS_BUCKET == \"\" or GCS_BUCKET is None or GCS_BUCKET == \"[your-bucket-name]\":\n",
    "    # Get your bucket name to GCP projet id\n",
    "    GCS_BUCKET = PROJECT_ID\n",
    "    # Try to create the bucket if it doesn'exists\n",
    "    ! gsutil mb -l $REGION gs://$BUCKET\n",
    "    print(\"\")\n",
    "    \n",
    "!gcloud config set project {PROJECT_ID}"
   ]
  },
  {
   "cell_type": "code",
   "execution_count": 6,
   "id": "handmade-utility",
   "metadata": {},
   "outputs": [
    {
     "name": "stdout",
     "output_type": "stream",
     "text": [
      "Train machine type n1-standard-4\n",
      "Deploy machine type n1-standard-4\n",
      "Deployment: us-docker.pkg.dev/vertex-ai/prediction/tf2-cpu.2-8:latest\n",
      "PIPELINE_ROOT: gs://mle_airbus_dataset/airbusmlepipeline/pipeline_root\n",
      "MODULE_ROOT: gs://mle_airbus_dataset/airbusmlepipeline/pipeline_module\n",
      "DATA_ROOT: gs://mle_airbus_dataset/airbusmlepipeline/data\n",
      "SERVING_MODEL_DIR: gs://mle_airbus_dataset/airbusmlepipeline/serving_model\n"
     ]
    }
   ],
   "source": [
    "print(\"Train machine type\", TRAIN_COMPUTE)\n",
    "print(\"Deploy machine type\", DEPLOY_COMPUTE)\n",
    "print(\"Deployment:\", DEPLOY_IMAGE)\n",
    "print('PIPELINE_ROOT: {}'.format(PIPELINE_ROOT))\n",
    "print('MODULE_ROOT: {}'.format(MODULE_ROOT))\n",
    "print('DATA_ROOT: {}'.format(DATA_ROOT))\n",
    "print('SERVING_MODEL_DIR: {}'.format(SERVING_MODEL_DIR))"
   ]
  },
  {
   "cell_type": "markdown",
   "id": "educated-singer",
   "metadata": {},
   "source": [
    "## Create KFP pipeline"
   ]
  },
  {
   "cell_type": "code",
   "execution_count": 7,
   "id": "revised-foster",
   "metadata": {},
   "outputs": [],
   "source": [
    "from google_cloud_pipeline_components.types import artifact_types\n",
    "from google_cloud_pipeline_components.v1.custom_job import CustomTrainingJobOp\n",
    "from google_cloud_pipeline_components.v1.endpoint import (EndpointCreateOp,\n",
    "                                                          ModelDeployOp)\n",
    "from google_cloud_pipeline_components import aiplatform as gcpc_aip\n",
    "from kfp.v2.components import importer_node"
   ]
  },
  {
   "cell_type": "code",
   "execution_count": 29,
   "id": "proved-yesterday",
   "metadata": {},
   "outputs": [],
   "source": [
    "import_file_component = kfp.components.load_component_from_file(\"./build/import_file_component.yaml\")\n",
    "trainer_component = kfp.components.load_component_from_file(\"./build/tensorflow_airbus.yaml\")\n",
    "gen_train_hist_component = kfp.components.load_component_from_file(\"./build/gen_train_hist_component.yaml\")\n",
    "model_eval_component = kfp.components.load_component_from_file(\"./build/model_eval_component.yaml\")\n",
    "model_eval_test_component =  kfp.components.load_component_from_file(\"./build/model_eval_test_component.yaml\")\n",
    "test_deployment_component = kfp.components.load_component_from_file(\"./build/test_deployment_component.yaml\")"
   ]
  },
  {
   "cell_type": "code",
   "execution_count": 30,
   "id": "unlike-perry",
   "metadata": {},
   "outputs": [],
   "source": [
    "# Define the pipeline\n",
    "@dsl.pipeline(\n",
    "   name='airbus-mle',\n",
    "   description='Model training pipeline for MLE Project for airbus detection.',\n",
    "   pipeline_root=PIPELINE_ROOT\n",
    ")\n",
    "\n",
    "def airbus_component_deploy_pipeline(\n",
    "    project_dict: dict, \n",
    "    gcs_bucket: str,\n",
    "    metrics_thresholds: dict,\n",
    "    model_output_folder: str\n",
    "):\n",
    "    \n",
    "    import_task = import_file_component(\n",
    "        project_dict = project_dict\n",
    "    ).set_display_name(\"Import data from BigQuery and run preprocessing\")\n",
    "    \n",
    "    gen_train_hist_task = gen_train_hist_component(\n",
    "        project_dict = project_dict\n",
    "    ).after(import_task).set_display_name(\"Generate input image statistics\")\n",
    "    \n",
    "    trainer_path = trainer_component(\n",
    "        model_dir = 'gs://mle_airbus_dataset/trained_model/',\n",
    "        train_data_dir = import_task.outputs['train_data_fpath'],\n",
    "        eval_data_dir = import_task.outputs['test_data_fpath']\n",
    "    ).set_display_name(\"Model training\").after(import_task)\n",
    "        \n",
    "    model_eval_task = model_eval_component(\n",
    "        test_filepath = import_task.outputs['test_data_fpath'],\n",
    "        model_filepath = trainer_path.output\n",
    "    ).set_display_name(\"Run model evaluation on selected metrics\").after(trainer_path)\n",
    "    \n",
    "    model_eval_test = model_eval_test_component(\n",
    "        metrics = model_eval_task.output\n",
    "    ).set_display_name(\"Test if model evaluation results passed\")\n",
    "\n",
    "    importer_spec = importer_node.importer(\n",
    "      artifact_uri= trainer_path.output,\n",
    "      artifact_class=artifact_types.UnmanagedContainerModel,\n",
    "      metadata={\n",
    "          'containerSpec': {\n",
    "              'imageUri': DEPLOY_IMAGE\n",
    "          }\n",
    "      }).after(model_eval_test).set_display_name(\"Import trained model image\")\n",
    "\n",
    "    model_upload_with_artifact_op = gcpc_aip.ModelUploadOp(\n",
    "      project=PROJECT_ID,\n",
    "      location=REGION,\n",
    "      display_name=MODEL_DISPLAY_NAME,\n",
    "      unmanaged_container_model=importer_spec.outputs['artifact']).set_display_name(\"Model upload\")\n",
    "\n",
    "    model_upload_with_artifact_op.after(importer_spec)\n",
    "\n",
    "    endpoint_create_op = EndpointCreateOp(\n",
    "        project=PROJECT_ID,\n",
    "        location=REGION,\n",
    "        display_name=ENDPOINT_DISPLAY_NAME,\n",
    "    ).set_display_name(\"Create end point for deployment\")\n",
    "\n",
    "    model_deploy_op = ModelDeployOp(\n",
    "        endpoint=endpoint_create_op.outputs[\"endpoint\"],\n",
    "        model=model_upload_with_artifact_op.outputs[\"model\"],\n",
    "        deployed_model_display_name=MODEL_DEPLOY_DISPLAY_NAME,\n",
    "        dedicated_resources_machine_type=DEPLOY_COMPUTE,\n",
    "        dedicated_resources_min_replica_count=1,\n",
    "        dedicated_resources_max_replica_count=1,\n",
    "        traffic_split = {0: 100},\n",
    "    ).set_display_name(\"Model deployment and serving\")\n",
    "\n",
    "    test_deployment_task = test_deployment_component(\n",
    "        endpoint = endpoint_create_op.outputs[\"endpoint\"],\n",
    "        project_dict = project_dict\n",
    "    ).after(model_deploy_op).set_display_name(\"Test model deployment\")\n",
    "        \n",
    "    return True"
   ]
  },
  {
   "cell_type": "markdown",
   "id": "labeled-translator",
   "metadata": {},
   "source": [
    "## Pipeline Compilation and Submission"
   ]
  },
  {
   "cell_type": "code",
   "execution_count": 31,
   "id": "engaged-coating",
   "metadata": {},
   "outputs": [
    {
     "name": "stdout",
     "output_type": "stream",
     "text": [
      "Creating PipelineJob\n"
     ]
    },
    {
     "name": "stderr",
     "output_type": "stream",
     "text": [
      "INFO:google.cloud.aiplatform.pipeline_jobs:Creating PipelineJob\n"
     ]
    },
    {
     "name": "stdout",
     "output_type": "stream",
     "text": [
      "PipelineJob created. Resource name: projects/484894607141/locations/asia-east1/pipelineJobs/airbus-mle-20220703104900\n"
     ]
    },
    {
     "name": "stderr",
     "output_type": "stream",
     "text": [
      "INFO:google.cloud.aiplatform.pipeline_jobs:PipelineJob created. Resource name: projects/484894607141/locations/asia-east1/pipelineJobs/airbus-mle-20220703104900\n"
     ]
    },
    {
     "name": "stdout",
     "output_type": "stream",
     "text": [
      "To use this PipelineJob in another session:\n"
     ]
    },
    {
     "name": "stderr",
     "output_type": "stream",
     "text": [
      "INFO:google.cloud.aiplatform.pipeline_jobs:To use this PipelineJob in another session:\n"
     ]
    },
    {
     "name": "stdout",
     "output_type": "stream",
     "text": [
      "pipeline_job = aiplatform.PipelineJob.get('projects/484894607141/locations/asia-east1/pipelineJobs/airbus-mle-20220703104900')\n"
     ]
    },
    {
     "name": "stderr",
     "output_type": "stream",
     "text": [
      "INFO:google.cloud.aiplatform.pipeline_jobs:pipeline_job = aiplatform.PipelineJob.get('projects/484894607141/locations/asia-east1/pipelineJobs/airbus-mle-20220703104900')\n"
     ]
    },
    {
     "name": "stdout",
     "output_type": "stream",
     "text": [
      "View Pipeline Job:\n",
      "https://console.cloud.google.com/vertex-ai/locations/asia-east1/pipelines/runs/airbus-mle-20220703104900?project=484894607141\n"
     ]
    },
    {
     "name": "stderr",
     "output_type": "stream",
     "text": [
      "INFO:google.cloud.aiplatform.pipeline_jobs:View Pipeline Job:\n",
      "https://console.cloud.google.com/vertex-ai/locations/asia-east1/pipelines/runs/airbus-mle-20220703104900?project=484894607141\n"
     ]
    }
   ],
   "source": [
    "import google.cloud.aiplatform as aip\n",
    "from kfp.v2 import compiler  \n",
    "aip.init(project=PROJECT_ID, location=REGION)\n",
    "\n",
    "compiler.Compiler().compile(pipeline_func=airbus_component_deploy_pipeline, package_path=\"./build/airbusmle_pipeline.json\")\n",
    "\n",
    "params = {'project_dict': project_dict, \n",
    "        'gcs_bucket': GCS_BUCKET,\n",
    "        'metrics_thresholds': metrics_thresholds,\n",
    "       'model_output_folder': 'default'}\n",
    "\n",
    "job = aip.PipelineJob(display_name='default', template_path=\"./build/airbusmle_pipeline.json\", pipeline_root=PIPELINE_ROOT, parameter_values=params, enable_caching=True)\n",
    "job.submit()"
   ]
  },
  {
   "cell_type": "code",
   "execution_count": null,
   "id": "cff9f5e5-1e56-4f5e-9b5e-bd3444e4d703",
   "metadata": {},
   "outputs": [],
   "source": []
  }
 ],
 "metadata": {
  "environment": {
   "kernel": "python3",
   "name": "tf2-gpu.2-8.m93",
   "type": "gcloud",
   "uri": "gcr.io/deeplearning-platform-release/tf2-gpu.2-8:m93"
  },
  "kernelspec": {
   "display_name": "Python 3",
   "language": "python",
   "name": "python3"
  },
  "language_info": {
   "codemirror_mode": {
    "name": "ipython",
    "version": 3
   },
   "file_extension": ".py",
   "mimetype": "text/x-python",
   "name": "python",
   "nbconvert_exporter": "python",
   "pygments_lexer": "ipython3",
   "version": "3.7.12"
  }
 },
 "nbformat": 4,
 "nbformat_minor": 5
}
