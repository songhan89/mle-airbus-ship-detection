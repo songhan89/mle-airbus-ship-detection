{
 "cells": [
  {
   "cell_type": "markdown",
   "id": "3ae353d0-e8f6-4da6-a7ff-6084c00510d5",
   "metadata": {},
   "source": [
    "# 06 - Model Deployment\n",
    "\n",
    "This notebook creates a unit test component that checks if the model deployed and endpoint are working correctly."
   ]
  },
  {
   "cell_type": "code",
   "execution_count": null,
   "id": "5bc549d0-de0a-4acf-9877-2a9a46089575",
   "metadata": {},
   "outputs": [],
   "source": [
    "import os\n",
    "import time\n",
    "import logging\n",
    "import kfp\n",
    "from google.cloud import bigquery, storage\n",
    "from google.cloud import aiplatform as vertex_ai\n",
    "from google_cloud_pipeline_components.experimental.custom_job import utils\n",
    "from kfp.v2 import compiler, dsl\n",
    "from kfp.v2.dsl import component\n",
    "from typing import NamedTuple\n",
    "from kfp.v2.dsl import (Artifact, Dataset, Input, InputPath, Model, Output, Metrics,\n",
    "                        OutputPath, component)\n",
    "\n",
    "from google_cloud_pipeline_components.experimental.custom_job import utils"
   ]
  },
  {
   "cell_type": "code",
   "execution_count": 3,
   "id": "southern-raising",
   "metadata": {},
   "outputs": [],
   "source": [
    "logging.basicConfig(level=logging.INFO)"
   ]
  },
  {
   "cell_type": "markdown",
   "id": "nearby-anderson",
   "metadata": {},
   "source": [
    "## Load Params and Resource Config"
   ]
  },
  {
   "cell_type": "code",
   "execution_count": 4,
   "id": "abandoned-equilibrium",
   "metadata": {},
   "outputs": [],
   "source": [
    "from config.gcp_resource import *"
   ]
  },
  {
   "cell_type": "code",
   "execution_count": 5,
   "id": "continued-scanner",
   "metadata": {},
   "outputs": [
    {
     "name": "stdout",
     "output_type": "stream",
     "text": [
      "Updated property [core/project].\n"
     ]
    }
   ],
   "source": [
    "if PROJECT_ID == \"\" or PROJECT_ID is None or PROJECT_ID == \"[your-project-id]\":\n",
    "    # Get your GCP project id from gcloud\n",
    "    shell_output = !gcloud config list --format 'value(core.project)' 2>/dev/null\n",
    "    PROJECT_ID = shell_output[0]\n",
    "    \n",
    "if SERVICE_ACCOUNT == \"\" or SERVICE_ACCOUNT is None or SERVICE_ACCOUNT == \"[your-service-account]\":\n",
    "    # Get your GCP project id from gcloud\n",
    "    shell_output = !gcloud config list --format 'value(core.account)' 2>/dev/null\n",
    "    SERVICE_ACCOUNT = shell_output[0]\n",
    "    \n",
    "if GCS_BUCKET == \"\" or GCS_BUCKET is None or GCS_BUCKET == \"[your-bucket-name]\":\n",
    "    # Get your bucket name to GCP projet id\n",
    "    GCS_BUCKET = PROJECT_ID\n",
    "    # Try to create the bucket if it doesn'exists\n",
    "    ! gsutil mb -l $REGION gs://$BUCKET\n",
    "    print(\"\")\n",
    "    \n",
    "!gcloud config set project {PROJECT_ID}"
   ]
  },
  {
   "cell_type": "code",
   "execution_count": 6,
   "id": "handmade-utility",
   "metadata": {},
   "outputs": [
    {
     "name": "stdout",
     "output_type": "stream",
     "text": [
      "Train machine type n1-standard-4\n",
      "Deploy machine type n1-standard-4\n",
      "Deployment: us-docker.pkg.dev/vertex-ai/prediction/tf2-cpu.2-8:latest\n",
      "PIPELINE_ROOT: gs://mle_airbus_dataset/airbusmlepipeline/pipeline_root\n",
      "MODULE_ROOT: gs://mle_airbus_dataset/airbusmlepipeline/pipeline_module\n",
      "DATA_ROOT: gs://mle_airbus_dataset/airbusmlepipeline/data\n",
      "SERVING_MODEL_DIR: gs://mle_airbus_dataset/airbusmlepipeline/serving_model\n"
     ]
    }
   ],
   "source": [
    "print(\"Train machine type\", TRAIN_COMPUTE)\n",
    "print(\"Deploy machine type\", DEPLOY_COMPUTE)\n",
    "print(\"Deployment:\", DEPLOY_IMAGE)\n",
    "print('PIPELINE_ROOT: {}'.format(PIPELINE_ROOT))\n",
    "print('MODULE_ROOT: {}'.format(MODULE_ROOT))\n",
    "print('DATA_ROOT: {}'.format(DATA_ROOT))\n",
    "print('SERVING_MODEL_DIR: {}'.format(SERVING_MODEL_DIR))"
   ]
  },
  {
   "cell_type": "markdown",
   "id": "broad-momentum",
   "metadata": {},
   "source": [
    "## Model Deployment Unit Test"
   ]
  },
  {
   "cell_type": "code",
   "execution_count": 11,
   "id": "initial-tunnel",
   "metadata": {},
   "outputs": [],
   "source": [
    "@component(packages_to_install=[\"numpy\", \"google-cloud-aiplatform\", \"google-cloud-storage\", \"Pillow\"], output_component_file=\"./build/test_deployment_component.yaml\",)\n",
    "def test_deployment_component(\n",
    "    endpoint: Input[Artifact],\n",
    "    project_dict: dict\n",
    "    ):\n",
    "    import logging\n",
    "    import numpy as np\n",
    "    import google.cloud.aiplatform as aip\n",
    "    from google.cloud import storage\n",
    "    from io import BytesIO\n",
    "    from PIL import Image   \n",
    "    \n",
    "    PROJECT_ID = project_dict['PROJECT_ID']\n",
    "    REGION = project_dict['REGION']\n",
    "    GCS_BUCKET = project_dict['GCS_BUCKET']\n",
    "    aip.init(project=PROJECT_ID, location=REGION)\n",
    "    logging.info(endpoint.uri)\n",
    "    logging.info(endpoint.metadata)\n",
    "    \n",
    "    client = storage.Client() # Implicit environment set up\n",
    "    bucket = client.get_bucket(GCS_BUCKET)\n",
    "    fname_list = ['00b846e38.jpg', '060ea266e.jpg', '0aa565354.jpg', '00ce2c1c0.jpg', '0a286fb15.jpg']\n",
    "    img_ori_list = []\n",
    "\n",
    "    for fname in fname_list:\n",
    "        blob = bucket.get_blob(f'train_v2/{fname}')\n",
    "        img_big = Image.open(BytesIO(blob.download_as_bytes()))\n",
    "        img_ori_list.append(img_big)\n",
    "    \n",
    "    endpoint = aip.Endpoint(endpoint.uri.split(\"/\")[-1])\n",
    "    \n",
    "    for idx, image in enumerate(img_ori_list):\n",
    "        img = image.resize((128, 128))\n",
    "        input_img = (np.array(img.getdata())/255.0).reshape(128, 128, 3).tolist()\n",
    "        prediction = endpoint.predict(instances=[input_img])\n",
    "        result = np.array(prediction.predictions)[0]\n",
    "\n",
    "    logging.info(\"Model deployment unit testing passed!\")"
   ]
  },
  {
   "cell_type": "code",
   "execution_count": null,
   "id": "9bdb8fcf-e13f-4f4b-b740-54a927043057",
   "metadata": {},
   "outputs": [],
   "source": []
  }
 ],
 "metadata": {
  "environment": {
   "kernel": "python3",
   "name": "tf2-gpu.2-8.m93",
   "type": "gcloud",
   "uri": "gcr.io/deeplearning-platform-release/tf2-gpu.2-8:m93"
  },
  "kernelspec": {
   "display_name": "Python 3",
   "language": "python",
   "name": "python3"
  },
  "language_info": {
   "codemirror_mode": {
    "name": "ipython",
    "version": 3
   },
   "file_extension": ".py",
   "mimetype": "text/x-python",
   "name": "python",
   "nbconvert_exporter": "python",
   "pygments_lexer": "ipython3",
   "version": "3.7.12"
  }
 },
 "nbformat": 4,
 "nbformat_minor": 5
}
